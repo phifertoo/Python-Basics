{
 "cells": [
  {
   "cell_type": "code",
   "execution_count": 31,
   "metadata": {},
   "outputs": [
    {
     "name": "stdout",
     "output_type": "stream",
     "text": [
      "['h', 'u', 'm', 'a', 'n']\n"
     ]
    }
   ],
   "source": [
    "# List commprehension\n",
    "h_letters = [ letter for letter in 'human' ]\n",
    "print(h_letters)"
   ]
  },
  {
   "cell_type": "code",
   "execution_count": 32,
   "metadata": {},
   "outputs": [
    {
     "name": "stdout",
     "output_type": "stream",
     "text": [
      "[0, 2, 4, 6, 8, 10, 12, 14, 16, 18]\n"
     ]
    }
   ],
   "source": [
    "# List comprehension with if statement\n",
    "number_list = [ x for x in range(20) if x % 2 == 0]\n",
    "print(number_list)"
   ]
  },
  {
   "cell_type": "code",
   "execution_count": 33,
   "metadata": {},
   "outputs": [
    {
     "name": "stdout",
     "output_type": "stream",
     "text": [
      "[0, 10, 20, 30, 40, 50, 60, 70, 80, 90]\n"
     ]
    }
   ],
   "source": [
    "# List comprehension with nested if statement\n",
    "num_list = [y for y in range(100) if y % 2 == 0 if y % 5 == 0]\n",
    "print(num_list)"
   ]
  },
  {
   "cell_type": "code",
   "execution_count": 34,
   "metadata": {},
   "outputs": [
    {
     "name": "stdout",
     "output_type": "stream",
     "text": [
      "['Even', 'Odd', 'Even', 'Odd', 'Even', 'Odd', 'Even', 'Odd', 'Even', 'Odd']\n"
     ]
    }
   ],
   "source": [
    "# List comprehension with if/else\n",
    "obj = [\"Even\" if i%2==0 else \"Odd\" for i in range(10)]\n",
    "print(obj)"
   ]
  },
  {
   "cell_type": "code",
   "execution_count": 35,
   "metadata": {},
   "outputs": [
    {
     "name": "stdout",
     "output_type": "stream",
     "text": [
      "['book', 'animal', 'computer']\n"
     ]
    }
   ],
   "source": [
    "# Copy List\n",
    "list = ['book', 'animal', 'computer']\n",
    "list_copy = list[:]\n",
    "print(list_copy)"
   ]
  },
  {
   "cell_type": "code",
   "execution_count": 38,
   "metadata": {},
   "outputs": [
    {
     "name": "stdout",
     "output_type": "stream",
     "text": [
      "True\n",
      "True\n"
     ]
    }
   ],
   "source": [
    "# Conditional List Test\n",
    "print('book' in list_copy)\n",
    "print('card' not in list_copy)\n"
   ]
  },
  {
   "cell_type": "code",
   "execution_count": 37,
   "metadata": {},
   "outputs": [
    {
     "data": {
      "text/plain": [
       "True"
      ]
     },
     "execution_count": 37,
     "metadata": {},
     "output_type": "execute_result"
    }
   ],
   "source": [
    "# Conditional List Test\n",
    "'chair' not in list_copy"
   ]
  },
  {
   "cell_type": "code",
   "execution_count": 49,
   "metadata": {},
   "outputs": [
    {
     "name": "stdout",
     "output_type": "stream",
     "text": [
      "(1920, 1080)\n"
     ]
    }
   ],
   "source": [
    "# Tuples: Same as lists but items can't be modified\n",
    "dimensions = (1920, 1080)\n",
    "print(dimensions)"
   ]
  },
  {
   "cell_type": "code",
   "execution_count": 7,
   "metadata": {},
   "outputs": [
    {
     "name": "stdout",
     "output_type": "stream",
     "text": [
      "{'assists': 4, 'points': 5, 'rebounds': 10}\n"
     ]
    }
   ],
   "source": [
    "# Dictionaries\n",
    "stats = {'assists': 4, 'points': 5}\n",
    "stats['rebounds'] = 10\n",
    "print(stats)"
   ]
  },
  {
   "cell_type": "code",
   "execution_count": 52,
   "metadata": {
    "scrolled": true
   },
   "outputs": [
    {
     "name": "stdout",
     "output_type": "stream",
     "text": [
      "assists: 4\n",
      "points: 5\n",
      "rebounds: 10\n"
     ]
    }
   ],
   "source": [
    "# Looping through key-value in dictionary\n",
    "for category, number in stats.items(): print(category + ': ' + str(number))"
   ]
  },
  {
   "cell_type": "code",
   "execution_count": 10,
   "metadata": {},
   "outputs": [
    {
     "name": "stdout",
     "output_type": "stream",
     "text": [
      "assists\n",
      "points\n",
      "rebounds\n"
     ]
    }
   ],
   "source": [
    "# Looping through all keys in dictionary\n",
    "for category in stats.keys():\n",
    "    print(category)"
   ]
  },
  {
   "cell_type": "code",
   "execution_count": 11,
   "metadata": {},
   "outputs": [
    {
     "name": "stdout",
     "output_type": "stream",
     "text": [
      "4\n",
      "5\n",
      "10\n"
     ]
    }
   ],
   "source": [
    "# Looping through all values in dictionary\n",
    "for category in stats.values():\n",
    "    print(category)"
   ]
  },
  {
   "cell_type": "code",
   "execution_count": 4,
   "metadata": {},
   "outputs": [
    {
     "name": "stdout",
     "output_type": "stream",
     "text": [
      "How old are you? 10\n",
      "I am 10years old!\n"
     ]
    }
   ],
   "source": [
    "# User Input\n",
    "age = input(\"How old are you? \")\n",
    "print(\"I am \" + age + \" years old!\")"
   ]
  },
  {
   "cell_type": "code",
   "execution_count": 6,
   "metadata": {},
   "outputs": [
    {
     "name": "stdout",
     "output_type": "stream",
     "text": [
      "1\n",
      "2\n",
      "3\n",
      "4\n",
      "5\n"
     ]
    }
   ],
   "source": [
    "# while loop\n",
    "current_value = 1\n",
    "while current_value <= 5:\n",
    "    print(current_value)\n",
    "    current_value += 1"
   ]
  },
  {
   "cell_type": "code",
   "execution_count": 6,
   "metadata": {},
   "outputs": [
    {
     "name": "stdout",
     "output_type": "stream",
     "text": [
      "1\n",
      "2\n",
      "3\n",
      "4\n",
      "6\n",
      "7\n",
      "8\n",
      "9\n"
     ]
    }
   ],
   "source": [
    "# using a break in the while loop\n",
    "x = 1\n",
    "while True:\n",
    "    if x == 10:\n",
    "        break\n",
    "    elif x == 4:\n",
    "        print(x)\n",
    "        x+=2\n",
    "    else:\n",
    "        print(x)\n",
    "        x += 1"
   ]
  },
  {
   "cell_type": "code",
   "execution_count": 9,
   "metadata": {},
   "outputs": [
    {
     "data": {
      "text/plain": [
       "5"
      ]
     },
     "execution_count": 9,
     "metadata": {},
     "output_type": "execute_result"
    }
   ],
   "source": [
    "# functions in python\n",
    "def add_numbers(x,y):\n",
    "    return x + y\n",
    "add_numbers(2,3)"
   ]
  },
  {
   "cell_type": "code",
   "execution_count": 10,
   "metadata": {},
   "outputs": [
    {
     "data": {
      "text/plain": [
       "'lebron'"
      ]
     },
     "execution_count": 10,
     "metadata": {},
     "output_type": "execute_result"
    }
   ],
   "source": [
    "# set default value in function\n",
    "def add_numbers(x = 'lebron'):\n",
    "    return x\n",
    "add_numbers()"
   ]
  },
  {
   "cell_type": "code",
   "execution_count": 11,
   "metadata": {},
   "outputs": [
    {
     "name": "stdout",
     "output_type": "stream",
     "text": [
      "None\n"
     ]
    }
   ],
   "source": [
    "# Using None to make an argument optional\n",
    "def add_numbers(x = None):\n",
    "    return x\n",
    "print(add_numbers())"
   ]
  },
  {
   "cell_type": "code",
   "execution_count": 46,
   "metadata": {},
   "outputs": [
    {
     "name": "stdout",
     "output_type": "stream",
     "text": [
      "Alex\n",
      "Alex is sitting\n"
     ]
    }
   ],
   "source": [
    "# classes \n",
    "class Dog():\n",
    "    def __init__(self, name):\n",
    "        self.name = name\n",
    "    def sit(self):\n",
    "        print(self.name + ' is sitting')\n",
    "\n",
    "my_dog = Dog('Alex')\n",
    "print(my_dog.name)\n",
    "my_dog.sit()"
   ]
  },
  {
   "cell_type": "code",
   "execution_count": 32,
   "metadata": {},
   "outputs": [
    {
     "name": "stdout",
     "output_type": "stream",
     "text": [
      "Nikki\n",
      "Nikki is sitting\n",
      "Alex\n",
      "Alex is sitting\n",
      "Nikki is sitting\n"
     ]
    }
   ],
   "source": [
    "# inheritance\n",
    "class SearchDog(Dog):\n",
    "    def __init(self,name):\n",
    "        super().__init__(name)\n",
    "    def search(self):\n",
    "        print(self.name + ' is searching')\n",
    "\n",
    "aunty_dog = SearchDog('Nikki')\n",
    "print(aunty_dog.name)\n",
    "aunty_dog.sit()\n",
    "print(my_dog.name)\n",
    "my_dog.sit()\n",
    "aunty_dog.sit()"
   ]
  },
  {
   "cell_type": "code",
   "execution_count": 51,
   "metadata": {},
   "outputs": [
    {
     "name": "stdout",
     "output_type": "stream",
     "text": [
      "['How to Use Github.docx', 'Sample_Text.txt']\n"
     ]
    }
   ],
   "source": [
    "#read a directory\n",
    "import os\n",
    "print(os.listdir('test_folder/'))"
   ]
  },
  {
   "cell_type": "code",
   "execution_count": 59,
   "metadata": {},
   "outputs": [
    {
     "name": "stdout",
     "output_type": "stream",
     "text": [
      "Instead of using async/await, make all calls run asynchronously\n",
      "\n",
      "He asked me about testing. Whatâ€™s the theory behind testing? How do you approach testing components?\n",
      "\n",
      "PHP/SQL queries\n",
      "\n",
      "Discuss Async/await\n",
      "\n"
     ]
    }
   ],
   "source": [
    "#read a file\n",
    "with open('test_folder/Sample_Text.txt') as file_object:\n",
    "    lines = file_object.readlines()\n",
    "\n",
    "for line in lines:\n",
    "    print(line)"
   ]
  },
  {
   "cell_type": "code",
   "execution_count": 64,
   "metadata": {},
   "outputs": [
    {
     "name": "stdout",
     "output_type": "stream",
     "text": [
      "I overwrote the existing text with this text\n"
     ]
    }
   ],
   "source": [
    "# write to a file. this will overwrite the existing text\n",
    "path = 'test_folder/Sample_Text.txt'\n",
    "with open(path, 'w') as file_object:\n",
    "    file_object.write(\"I overwrote the existing text with this text\")\n",
    "\n",
    "with open(path) as file_object:\n",
    "    lines = file_object.readlines()\n",
    "\n",
    "for line in lines:\n",
    "    print(line)"
   ]
  },
  {
   "cell_type": "code",
   "execution_count": 67,
   "metadata": {},
   "outputs": [
    {
     "name": "stdout",
     "output_type": "stream",
     "text": [
      "Instead of using async/await, make all calls run asynchronously\n",
      "\n",
      "He asked me about testing. WhatÃ¢â‚¬â„¢s the theory behind testing? How do you approach testing components?\n",
      "\n",
      "PHP/SQL queries\n",
      "\n",
      "Discuss Async/await\n",
      "\n",
      "I appended this\n"
     ]
    }
   ],
   "source": [
    "# add text to the existing file\n",
    "path = 'test_folder/Sample_Text.txt'\n",
    "with open(path, 'a') as file_object:\n",
    "    file_object.write(\"I appended this\")\n",
    "\n",
    "with open(path) as file_object:\n",
    "    lines = file_object.readlines()\n",
    "\n",
    "for line in lines:\n",
    "    print(line)"
   ]
  },
  {
   "cell_type": "code",
   "execution_count": 68,
   "metadata": {},
   "outputs": [
    {
     "ename": "NameError",
     "evalue": "name 'prompt' is not defined",
     "output_type": "error",
     "traceback": [
      "\u001b[1;31m---------------------------------------------------------------------------\u001b[0m",
      "\u001b[1;31mNameError\u001b[0m                                 Traceback (most recent call last)",
      "\u001b[1;32m<ipython-input-68-1b2a36a7b0e5>\u001b[0m in \u001b[0;36m<module>\u001b[1;34m\u001b[0m\n\u001b[0;32m      1\u001b[0m \u001b[1;31m# hanlding exceptions\u001b[0m\u001b[1;33m\u001b[0m\u001b[1;33m\u001b[0m\u001b[1;33m\u001b[0m\u001b[0m\n\u001b[0;32m      2\u001b[0m \u001b[1;32mtry\u001b[0m\u001b[1;33m:\u001b[0m\u001b[1;33m\u001b[0m\u001b[1;33m\u001b[0m\u001b[0m\n\u001b[1;32m----> 3\u001b[1;33m     \u001b[0mnum_tickets\u001b[0m \u001b[1;33m=\u001b[0m \u001b[0mint\u001b[0m\u001b[1;33m(\u001b[0m\u001b[0minput\u001b[0m\u001b[1;33m(\u001b[0m\u001b[0mprompt\u001b[0m\u001b[1;33m)\u001b[0m\u001b[1;33m)\u001b[0m\u001b[1;33m\u001b[0m\u001b[1;33m\u001b[0m\u001b[0m\n\u001b[0m\u001b[0;32m      4\u001b[0m \u001b[1;32mexcept\u001b[0m \u001b[0mValueError\u001b[0m\u001b[1;33m:\u001b[0m\u001b[1;33m\u001b[0m\u001b[1;33m\u001b[0m\u001b[0m\n\u001b[0;32m      5\u001b[0m     \u001b[0mprint\u001b[0m\u001b[1;33m(\u001b[0m\u001b[1;34m'please try again'\u001b[0m\u001b[1;33m)\u001b[0m\u001b[1;33m\u001b[0m\u001b[1;33m\u001b[0m\u001b[0m\n",
      "\u001b[1;31mNameError\u001b[0m: name 'prompt' is not defined"
     ]
    }
   ],
   "source": [
    "# hanlding exceptions\n",
    "try:\n",
    "    num_tickets = int(input(prompt))\n",
    "except ValueError:\n",
    "    print('please try again')\n",
    "else:\n",
    "    print('your tickets are printing')\n",
    "    "
   ]
  },
  {
   "cell_type": "code",
   "execution_count": 75,
   "metadata": {},
   "outputs": [
    {
     "data": {
      "text/plain": [
       "'ned'"
      ]
     },
     "execution_count": 75,
     "metadata": {},
     "output_type": "execute_result"
    }
   ],
   "source": [
    "# find last element in list\n",
    "mylist = ['val', 'bob', 'mia', 'ron', 'ned']\n",
    "mylist[-1]"
   ]
  },
  {
   "cell_type": "code",
   "execution_count": 76,
   "metadata": {},
   "outputs": [
    {
     "data": {
      "text/plain": [
       "['travis', 'bob', 'mia', 'ron', 'ned']"
      ]
     },
     "execution_count": 76,
     "metadata": {},
     "output_type": "execute_result"
    }
   ],
   "source": [
    "# replace element in list\n",
    "mylist[0] = 'travis'\n",
    "mylist"
   ]
  },
  {
   "cell_type": "code",
   "execution_count": 77,
   "metadata": {},
   "outputs": [
    {
     "data": {
      "text/plain": [
       "['travis', 'bob', 'joe', 'mia', 'ron', 'ned']"
      ]
     },
     "execution_count": 77,
     "metadata": {},
     "output_type": "execute_result"
    }
   ],
   "source": [
    "# add element at a specific position\n",
    "mylist.insert(2, 'joe')\n",
    "mylist"
   ]
  },
  {
   "cell_type": "code",
   "execution_count": 79,
   "metadata": {},
   "outputs": [
    {
     "data": {
      "text/plain": [
       "['travis', 'bob', 'mia', 'ron', 'ned']"
      ]
     },
     "execution_count": 79,
     "metadata": {},
     "output_type": "execute_result"
    }
   ],
   "source": [
    "# delete element at a specific position\n",
    "del mylist[2]\n",
    "mylist"
   ]
  },
  {
   "cell_type": "code",
   "execution_count": 80,
   "metadata": {},
   "outputs": [
    {
     "data": {
      "text/plain": [
       "['bob', 'mia', 'ron', 'ned']"
      ]
     },
     "execution_count": 80,
     "metadata": {},
     "output_type": "execute_result"
    }
   ],
   "source": [
    "# delete element by value\n",
    "mylist.remove('travis')\n",
    "mylist"
   ]
  },
  {
   "cell_type": "code",
   "execution_count": 83,
   "metadata": {},
   "outputs": [
    {
     "data": {
      "text/plain": [
       "[]"
      ]
     },
     "execution_count": 83,
     "metadata": {},
     "output_type": "execute_result"
    }
   ],
   "source": [
    "# add elements to list / remove the last item\n",
    "users = []\n",
    "users.append('val')\n",
    "users.pop(0)\n",
    "users"
   ]
  },
  {
   "cell_type": "code",
   "execution_count": 86,
   "metadata": {},
   "outputs": [
    {
     "data": {
      "text/plain": [
       "4"
      ]
     },
     "execution_count": 86,
     "metadata": {},
     "output_type": "execute_result"
    }
   ],
   "source": [
    "# length of a list\n",
    "mylength = len(mylist)\n",
    "mylength"
   ]
  },
  {
   "cell_type": "code",
   "execution_count": 87,
   "metadata": {},
   "outputs": [
    {
     "name": "stdout",
     "output_type": "stream",
     "text": [
      "['bob', 'mia', 'ned', 'ron']\n"
     ]
    }
   ],
   "source": [
    "# sort list alphabetically (temporarily)\n",
    "print(sorted(mylist))"
   ]
  },
  {
   "cell_type": "code",
   "execution_count": 88,
   "metadata": {},
   "outputs": [
    {
     "name": "stdout",
     "output_type": "stream",
     "text": [
      "['ron', 'ned', 'mia', 'bob']\n"
     ]
    }
   ],
   "source": [
    "# sort list reverse-alphabetically (temporarily)\n",
    "print(sorted(mylist, reverse=True))"
   ]
  },
  {
   "cell_type": "code",
   "execution_count": 94,
   "metadata": {},
   "outputs": [
    {
     "name": "stdout",
     "output_type": "stream",
     "text": [
      "1\n",
      "2\n",
      "3\n",
      "4\n",
      "5\n",
      "6\n",
      "7\n",
      "8\n",
      "9\n"
     ]
    }
   ],
   "source": [
    "# ranges\n",
    "for num in range(1,10):\n",
    "    print(num)"
   ]
  },
  {
   "cell_type": "code",
   "execution_count": 96,
   "metadata": {},
   "outputs": [
    {
     "data": {
      "text/plain": [
       "[1, 2, 3, 4, 5, 6, 7, 8, 9]"
      ]
     },
     "execution_count": 96,
     "metadata": {},
     "output_type": "execute_result"
    }
   ],
   "source": [
    "# make a list using a range\n",
    "list(range(1,10))"
   ]
  },
  {
   "cell_type": "code",
   "execution_count": 5,
   "metadata": {
    "scrolled": true
   },
   "outputs": [
    {
     "name": "stdout",
     "output_type": "stream",
     "text": [
      "8\n",
      "2\n",
      "20\n"
     ]
    }
   ],
   "source": [
    "# min, max, sum\n",
    "numlist = [2, 4, 6, 8]\n",
    "print(max(numlist))\n",
    "print(min(numlist))\n",
    "print(sum(numlist))"
   ]
  },
  {
   "cell_type": "code",
   "execution_count": 6,
   "metadata": {},
   "outputs": [
    {
     "name": "stdout",
     "output_type": "stream",
     "text": [
      "['kai', 'abe', 'ada']\n",
      "['abe', 'ada']\n",
      "['ada', 'gus', 'zoe']\n"
     ]
    }
   ],
   "source": [
    "# slicing portions of the list\n",
    "finishers = ['kai', 'abe', 'ada', 'gus', 'zoe']\n",
    "print(finishers[:3])\n",
    "print(finishers[1:3])\n",
    "print(finishers[2:])"
   ]
  },
  {
   "cell_type": "code",
   "execution_count": 7,
   "metadata": {},
   "outputs": [
    {
     "name": "stdout",
     "output_type": "stream",
     "text": [
      "['kai', 'abe', 'ada', 'gus', 'zoe']\n"
     ]
    }
   ],
   "source": [
    "# copy a list\n",
    "copy_finishers = finishers\n",
    "print(copy_finishers)"
   ]
  },
  {
   "cell_type": "code",
   "execution_count": 8,
   "metadata": {},
   "outputs": [
    {
     "data": {
      "text/plain": [
       "[1, 4, 9, 16, 25, 36, 49, 64, 81, 100]"
      ]
     },
     "execution_count": 8,
     "metadata": {},
     "output_type": "execute_result"
    }
   ],
   "source": [
    "# list comprehension to create a list\n",
    "[x**2 for x in range(1, 11)]"
   ]
  },
  {
   "cell_type": "code",
   "execution_count": 9,
   "metadata": {},
   "outputs": [
    {
     "data": {
      "text/plain": [
       "['KAI', 'ABE', 'ADA', 'GUS', 'ZOE']"
      ]
     },
     "execution_count": 9,
     "metadata": {},
     "output_type": "execute_result"
    }
   ],
   "source": [
    "# list comprehension to a list of names to upper case\n",
    "names = ['kai', 'abe', 'ada', 'gus', 'zoe']\n",
    "[name.upper() for name in names]"
   ]
  },
  {
   "cell_type": "code",
   "execution_count": 14,
   "metadata": {},
   "outputs": [
    {
     "name": "stdout",
     "output_type": "stream",
     "text": [
      "green\n",
      "green\n"
     ]
    }
   ],
   "source": [
    "# getting a value from a dictionary using bracket notation or .get()\n",
    "alien = {'color': 'green', 'points': 5}\n",
    "print(alien['color'])\n",
    "print(alien.get('color'))"
   ]
  },
  {
   "cell_type": "code",
   "execution_count": 15,
   "metadata": {},
   "outputs": [
    {
     "data": {
      "text/plain": [
       "{'points': 5}"
      ]
     },
     "execution_count": 15,
     "metadata": {},
     "output_type": "execute_result"
    }
   ],
   "source": [
    "# remove key/value in dictionary\n",
    "del alien['color']\n",
    "alien"
   ]
  },
  {
   "cell_type": "code",
   "execution_count": 39,
   "metadata": {},
   "outputs": [
    {
     "data": {
      "text/plain": [
       "'john'"
      ]
     },
     "execution_count": 39,
     "metadata": {},
     "output_type": "execute_result"
    }
   ],
   "source": [
    "# You cannot use dot notation to access values in python\n",
    "new_user = {\n",
    "    'name': {\n",
    "        'first_name': 'john',\n",
    "        'last_name': 'smith'\n",
    "    }\n",
    "}\n",
    "new_user['name']['first_name']\n",
    "# new_user.name will not work"
   ]
  },
  {
   "cell_type": "code",
   "execution_count": 26,
   "metadata": {},
   "outputs": [
    {
     "name": "stdout",
     "output_type": "stream",
     "text": [
      "True\n",
      "True\n",
      "True\n"
     ]
    }
   ],
   "source": [
    "# equality\n",
    "print('a' == 'a')\n",
    "print(5 > 3 and 3 > 1)\n",
    "print(5 > 3 or 1 > 3)"
   ]
  },
  {
   "cell_type": "code",
   "execution_count": 27,
   "metadata": {},
   "outputs": [
    {
     "data": {
      "text/plain": [
       "5"
      ]
     },
     "execution_count": 27,
     "metadata": {},
     "output_type": "execute_result"
    }
   ],
   "source": [
    "age = 12\n",
    "if age < 4:\n",
    "    price = 0\n",
    "elif age <18:\n",
    "    price = 5\n",
    "else:\n",
    "    price = 10\n",
    "\n",
    "price"
   ]
  },
  {
   "cell_type": "code",
   "execution_count": 9,
   "metadata": {},
   "outputs": [
    {
     "name": "stdout",
     "output_type": "stream",
     "text": [
      "['dog', 'dog', 'fish', 'rabbit']\n"
     ]
    }
   ],
   "source": [
    "# the remove() method removes only the first instance of the element.\n",
    "# You must use a while loop to remove all instances of that element\n",
    "pets = ['dog', 'cat', 'dog', 'fish', 'cat', 'rabbit', 'cat']\n",
    "while 'cat' in pets:\n",
    "    pets.remove('cat')\n",
    "print(pets)"
   ]
  },
  {
   "cell_type": "code",
   "execution_count": 13,
   "metadata": {},
   "outputs": [
    {
     "name": "stdout",
     "output_type": "stream",
     "text": [
      "large ('pepperoni',)\n",
      "large ('pepperoni', 'pineapple')\n"
     ]
    }
   ],
   "source": [
    "# Using the * operator for an arbitrary number of arguments. It must be the last argument\n",
    "def make_pizza(size, *toppings):\n",
    "    print(size, toppings)\n",
    "make_pizza('large', 'pepperoni')\n",
    "make_pizza('large', 'pepperoni', 'pineapple')"
   ]
  },
  {
   "cell_type": "code",
   "execution_count": 14,
   "metadata": {},
   "outputs": [
    {
     "name": "stdout",
     "output_type": "stream",
     "text": [
      "large\n",
      "pepperoni\n",
      "large\n",
      "pepperoni\n",
      "pineapple\n"
     ]
    }
   ],
   "source": [
    "# Using the * operator for an arbitrary number of arguments. It must be the last argument\n",
    "def make_pizza(size, *toppings):\n",
    "    print(size)\n",
    "    for topping in toppings:\n",
    "        print(topping)\n",
    "make_pizza('large', 'pepperoni')\n",
    "make_pizza('large', 'pepperoni', 'pineapple')"
   ]
  },
  {
   "cell_type": "code",
   "execution_count": 28,
   "metadata": {},
   "outputs": [
    {
     "name": "stdout",
     "output_type": "stream",
     "text": [
      "{'location': 'paris', 'field': 'chemistry', 'grade': 'B'}\n"
     ]
    }
   ],
   "source": [
    "# Using the ** operator accepts key/value paris in the form of yourKey = 'yourValue'\n",
    "def build_profile(first, last, **info):\n",
    "    print(info)\n",
    "build_profile('albert', 'einstein', location='paris', field='chemistry', grade='B')"
   ]
  },
  {
   "cell_type": "code",
   "execution_count": 30,
   "metadata": {},
   "outputs": [],
   "source": [
    "# import a file/module\n",
    "import myFile as myVariable"
   ]
  },
  {
   "cell_type": "code",
   "execution_count": null,
   "metadata": {},
   "outputs": [],
   "source": [
    "# import a specific function from a file/module\n",
    "from myFile import myFunction as myFunctionVariable"
   ]
  },
  {
   "cell_type": "code",
   "execution_count": null,
   "metadata": {},
   "outputs": [],
   "source": [
    "# import all functions from a file/module\n",
    "from myFile import *"
   ]
  },
  {
   "cell_type": "code",
   "execution_count": 31,
   "metadata": {},
   "outputs": [],
   "source": [
    "# create a class\n",
    "class Car():\n",
    "    def __init__(self, make, model, year):\n",
    "        self.make = make\n",
    "        self.model = model\n",
    "        self.year = year\n",
    "        self.fuel_capacity = 15\n",
    "        self.fuel_level = 0\n",
    "        \n",
    "    def fill_tank(self):\n",
    "        self.fuel_level = self.fuel_capacity\n",
    "        print('fuel tank is full')\n",
    "    \n",
    "    def drive(self):\n",
    "        print(\"the car is moving\")"
   ]
  },
  {
   "cell_type": "code",
   "execution_count": 36,
   "metadata": {},
   "outputs": [
    {
     "name": "stdout",
     "output_type": "stream",
     "text": [
      "<__main__.Car object at 0x00000160A97C2308>\n",
      "audi\n",
      "a4\n",
      "2016\n",
      "fuel tank is full\n",
      "the car is moving\n"
     ]
    }
   ],
   "source": [
    "# create a new instance of the object/car\n",
    "my_car = Car('audi', 'a4', 2016)\n",
    "# access properties of the object\n",
    "print(my_car)\n",
    "print(my_car.make)\n",
    "print(my_car.model)\n",
    "print(my_car.year)\n",
    "# call methods from the object\n",
    "my_car.fill_tank()\n",
    "my_car.drive()"
   ]
  },
  {
   "cell_type": "code",
   "execution_count": 37,
   "metadata": {},
   "outputs": [
    {
     "data": {
      "text/plain": [
       "5"
      ]
     },
     "execution_count": 37,
     "metadata": {},
     "output_type": "execute_result"
    }
   ],
   "source": [
    "# modify a property of the object\n",
    "my_car.fuel_level = 5\n",
    "my_car.fuel_level"
   ]
  },
  {
   "cell_type": "code",
   "execution_count": 43,
   "metadata": {},
   "outputs": [
    {
     "name": "stdout",
     "output_type": "stream",
     "text": [
      "4\n"
     ]
    }
   ],
   "source": [
    "# writing new methods\n",
    "def update_fuel_level(self, new_level):\n",
    "    if(new_level <= self.fuel_capacity):\n",
    "        self.fuel_level = new_level\n",
    "        print(self.fuel_level)\n",
    "    else:\n",
    "        print('the tank cannot hold that much!')\n",
    "\n",
    "# pass in the object into the method\n",
    "update_fuel_level(my_car,4)"
   ]
  },
  {
   "cell_type": "code",
   "execution_count": null,
   "metadata": {},
   "outputs": [],
   "source": [
    "# importing classes\n",
    "from car import Car, ElectricCar\n",
    "my_beetle = Car('volkwagen', 'beetle', 2016)\n",
    "my_beetle.fill_tank()"
   ]
  },
  {
   "cell_type": "code",
   "execution_count": 49,
   "metadata": {},
   "outputs": [
    {
     "ename": "IndentationError",
     "evalue": "expected an indented block (<ipython-input-49-65a6f502244f>, line 4)",
     "output_type": "error",
     "traceback": [
      "\u001b[1;36m  File \u001b[1;32m\"<ipython-input-49-65a6f502244f>\"\u001b[1;36m, line \u001b[1;32m4\u001b[0m\n\u001b[1;33m    except Exception as e:\u001b[0m\n\u001b[1;37m         ^\u001b[0m\n\u001b[1;31mIndentationError\u001b[0m\u001b[1;31m:\u001b[0m expected an indented block\n"
     ]
    }
   ],
   "source": [
    "# exceptions\n",
    "try:\n",
    "    # do something\n",
    "except Exception as e:\n",
    "    print(e, type(e))"
   ]
  },
  {
   "cell_type": "code",
   "execution_count": 55,
   "metadata": {},
   "outputs": [],
   "source": [
    "# store data in json\n",
    "import json\n",
    "\n",
    "numbers = [2, 3, 5, 7, 11, 13]\n",
    "with open('test_folder/Sample_Text.txt', 'w') as f_obj:\n",
    "    json.dump(numbers, f_obj)"
   ]
  },
  {
   "cell_type": "code",
   "execution_count": 56,
   "metadata": {},
   "outputs": [
    {
     "name": "stdout",
     "output_type": "stream",
     "text": [
      "[2, 3, 5, 7, 11, 13]\n"
     ]
    }
   ],
   "source": [
    "# load json\n",
    "import json\n",
    "\n",
    "with open('test_folder/Sample_Text.txt') as f_obj:\n",
    "    numbers = json.load(f_obj)\n",
    "\n",
    "print(numbers)"
   ]
  },
  {
   "cell_type": "code",
   "execution_count": null,
   "metadata": {},
   "outputs": [],
   "source": []
  }
 ],
 "metadata": {
  "kernelspec": {
   "display_name": "Python 3",
   "language": "python",
   "name": "python3"
  },
  "language_info": {
   "codemirror_mode": {
    "name": "ipython",
    "version": 3
   },
   "file_extension": ".py",
   "mimetype": "text/x-python",
   "name": "python",
   "nbconvert_exporter": "python",
   "pygments_lexer": "ipython3",
   "version": "3.7.6"
  }
 },
 "nbformat": 4,
 "nbformat_minor": 4
}
